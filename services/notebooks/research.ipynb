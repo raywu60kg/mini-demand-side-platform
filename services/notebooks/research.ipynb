{
 "cells": [
  {
   "cell_type": "markdown",
   "id": "ef769861-a1e7-4d82-9e79-28b2bc8d6147",
   "metadata": {},
   "source": [
    "# Research"
   ]
  },
  {
   "cell_type": "code",
   "execution_count": 1,
   "id": "b1c675f2-8596-4497-86d3-ede7c88d1863",
   "metadata": {},
   "outputs": [],
   "source": [
    "import pandas as pd\n",
    "import sklearn \n",
    "import psycopg2\n",
    "import numpy as np\n",
    "import seaborn as sns\n",
    "import matplotlib.pyplot as plt\n",
    "from sklearn.metrics import roc_curve, auc\n",
    "from sklearn.metrics import precision_recall_curve\n",
    "from sklearn.linear_model import LogisticRegression\n",
    "from sklearn.model_selection import train_test_split\n",
    "from sklearn.metrics import f1_score"
   ]
  },
  {
   "cell_type": "code",
   "execution_count": 2,
   "id": "fff542ae",
   "metadata": {},
   "outputs": [],
   "source": [
    "plt.style.use('ggplot')"
   ]
  },
  {
   "cell_type": "markdown",
   "id": "9855a3ef",
   "metadata": {},
   "source": [
    "## load data"
   ]
  },
  {
   "cell_type": "code",
   "execution_count": 3,
   "id": "865a8f3f-e294-4bbf-9d7c-b0295b50ec27",
   "metadata": {},
   "outputs": [],
   "source": [
    "# Connect to your postgres DB\n",
    "conn = psycopg2.connect(\n",
    "    dbname=\"dsp\",\n",
    "    user=\"dsp\",\n",
    "    password=\"dsp\",\n",
    "    host=\"localhost\",\n",
    "    port=\"5432\")\n",
    "\n",
    "# Open a cursor to perform database operations\n",
    "cur = conn.cursor()\n",
    "\n",
    "# Execute a query\n",
    "cur.execute(\"SELECT * FROM ctr\")\n",
    "\n",
    "# Retrieve query results\n",
    "records = cur.fetchall()"
   ]
  },
  {
   "cell_type": "code",
   "execution_count": 4,
   "id": "d4df9aa9-d9bf-4158-ba99-cb9b5fecb0aa",
   "metadata": {},
   "outputs": [],
   "source": [
    "ctr_data = pd.DataFrame(\n",
    "    records, \n",
    "    columns=[\n",
    "        \"ad_id\",\n",
    "        \"status\",\n",
    "        \"bidding_cpc\",\n",
    "        \"advertiser\",\n",
    "        \"banner_style\",\n",
    "        \"category\",\n",
    "        \"height\",\n",
    "        \"width\",\n",
    "        \"item_price\",\n",
    "        \"layout_style\",\n",
    "        \"hist_ctr\",\n",
    "        \"hist_cvr\",\n",
    "        \"was_click\"\n",
    "    ]\n",
    ")"
   ]
  },
  {
   "cell_type": "code",
   "execution_count": 5,
   "id": "82ff048b-7191-48f2-8b6e-d6bd862f0779",
   "metadata": {},
   "outputs": [
    {
     "data": {
      "text/html": [
       "<div>\n",
       "<style scoped>\n",
       "    .dataframe tbody tr th:only-of-type {\n",
       "        vertical-align: middle;\n",
       "    }\n",
       "\n",
       "    .dataframe tbody tr th {\n",
       "        vertical-align: top;\n",
       "    }\n",
       "\n",
       "    .dataframe thead th {\n",
       "        text-align: right;\n",
       "    }\n",
       "</style>\n",
       "<table border=\"1\" class=\"dataframe\">\n",
       "  <thead>\n",
       "    <tr style=\"text-align: right;\">\n",
       "      <th></th>\n",
       "      <th>ad_id</th>\n",
       "      <th>status</th>\n",
       "      <th>bidding_cpc</th>\n",
       "      <th>advertiser</th>\n",
       "      <th>banner_style</th>\n",
       "      <th>category</th>\n",
       "      <th>height</th>\n",
       "      <th>width</th>\n",
       "      <th>item_price</th>\n",
       "      <th>layout_style</th>\n",
       "      <th>hist_ctr</th>\n",
       "      <th>hist_cvr</th>\n",
       "      <th>was_click</th>\n",
       "    </tr>\n",
       "  </thead>\n",
       "  <tbody>\n",
       "    <tr>\n",
       "      <th>0</th>\n",
       "      <td>1228</td>\n",
       "      <td>False</td>\n",
       "      <td>1.0</td>\n",
       "      <td>QQ</td>\n",
       "      <td>VII</td>\n",
       "      <td>Pullover</td>\n",
       "      <td>27.341918</td>\n",
       "      <td>617.516273</td>\n",
       "      <td>2896.437068</td>\n",
       "      <td>MP</td>\n",
       "      <td>0.000366</td>\n",
       "      <td>0.000068</td>\n",
       "      <td>False</td>\n",
       "    </tr>\n",
       "    <tr>\n",
       "      <th>1</th>\n",
       "      <td>1792</td>\n",
       "      <td>False</td>\n",
       "      <td>1.0</td>\n",
       "      <td>AAT</td>\n",
       "      <td>X</td>\n",
       "      <td>Trouser</td>\n",
       "      <td>92.063239</td>\n",
       "      <td>214.452624</td>\n",
       "      <td>2090.988338</td>\n",
       "      <td>CP</td>\n",
       "      <td>0.000617</td>\n",
       "      <td>0.000140</td>\n",
       "      <td>False</td>\n",
       "    </tr>\n",
       "    <tr>\n",
       "      <th>2</th>\n",
       "      <td>1072</td>\n",
       "      <td>True</td>\n",
       "      <td>1.0</td>\n",
       "      <td>WKN</td>\n",
       "      <td>VII</td>\n",
       "      <td>Bag</td>\n",
       "      <td>53.559076</td>\n",
       "      <td>632.539902</td>\n",
       "      <td>1267.726492</td>\n",
       "      <td>HU</td>\n",
       "      <td>0.043057</td>\n",
       "      <td>0.000114</td>\n",
       "      <td>False</td>\n",
       "    </tr>\n",
       "    <tr>\n",
       "      <th>3</th>\n",
       "      <td>351</td>\n",
       "      <td>True</td>\n",
       "      <td>2.0</td>\n",
       "      <td>DQT</td>\n",
       "      <td>XV</td>\n",
       "      <td>Coat</td>\n",
       "      <td>15.722390</td>\n",
       "      <td>707.972269</td>\n",
       "      <td>625.479827</td>\n",
       "      <td>BE</td>\n",
       "      <td>0.001542</td>\n",
       "      <td>0.000020</td>\n",
       "      <td>False</td>\n",
       "    </tr>\n",
       "    <tr>\n",
       "      <th>4</th>\n",
       "      <td>1764</td>\n",
       "      <td>True</td>\n",
       "      <td>2.0</td>\n",
       "      <td>WCI</td>\n",
       "      <td>IX</td>\n",
       "      <td>Trouser</td>\n",
       "      <td>6.916314</td>\n",
       "      <td>393.056523</td>\n",
       "      <td>2707.362702</td>\n",
       "      <td>TX</td>\n",
       "      <td>0.014159</td>\n",
       "      <td>0.000194</td>\n",
       "      <td>False</td>\n",
       "    </tr>\n",
       "  </tbody>\n",
       "</table>\n",
       "</div>"
      ],
      "text/plain": [
       "   ad_id  status  bidding_cpc advertiser banner_style  category     height  \\\n",
       "0   1228   False          1.0         QQ          VII  Pullover  27.341918   \n",
       "1   1792   False          1.0        AAT            X   Trouser  92.063239   \n",
       "2   1072    True          1.0        WKN          VII       Bag  53.559076   \n",
       "3    351    True          2.0        DQT           XV      Coat  15.722390   \n",
       "4   1764    True          2.0        WCI           IX   Trouser   6.916314   \n",
       "\n",
       "        width   item_price layout_style  hist_ctr  hist_cvr  was_click  \n",
       "0  617.516273  2896.437068           MP  0.000366  0.000068      False  \n",
       "1  214.452624  2090.988338           CP  0.000617  0.000140      False  \n",
       "2  632.539902  1267.726492           HU  0.043057  0.000114      False  \n",
       "3  707.972269   625.479827           BE  0.001542  0.000020      False  \n",
       "4  393.056523  2707.362702           TX  0.014159  0.000194      False  "
      ]
     },
     "execution_count": 5,
     "metadata": {},
     "output_type": "execute_result"
    }
   ],
   "source": [
    "ctr_data.head()"
   ]
  },
  {
   "cell_type": "code",
   "execution_count": 6,
   "id": "e04dde2a",
   "metadata": {},
   "outputs": [
    {
     "data": {
      "text/plain": [
       "0.009905203839797677"
      ]
     },
     "execution_count": 6,
     "metadata": {},
     "output_type": "execute_result"
    }
   ],
   "source": [
    "np.mean(ctr_data[\"hist_ctr\"])"
   ]
  },
  {
   "cell_type": "markdown",
   "id": "142113a7",
   "metadata": {},
   "source": [
    "## choice top 10 feature from correlation"
   ]
  },
  {
   "cell_type": "code",
   "execution_count": 7,
   "id": "2c8ef009-53cb-4db3-a9f5-40e73a8466be",
   "metadata": {},
   "outputs": [],
   "source": [
    "numerical_features = [\"bidding_cpc\", \"height\", \"width\", \"item_price\", \"hist_ctr\", \"hist_cvr\"]\n",
    "categorical_features = [\"banner_style\", \"category\", \"layout_style\"]\n",
    "target_features = [\"was_click\"]"
   ]
  },
  {
   "cell_type": "code",
   "execution_count": 8,
   "id": "16a8b634-e040-4a26-90d4-a4a4ec9d7f80",
   "metadata": {},
   "outputs": [],
   "source": [
    "formated_data = pd.concat(\n",
    "    [\n",
    "        pd.get_dummies(ctr_data[categorical_features]), \n",
    "        ctr_data[numerical_features],\n",
    "        ctr_data[target_features]\n",
    "    ],  axis=1)"
   ]
  },
  {
   "cell_type": "code",
   "execution_count": 9,
   "id": "a1b09e01",
   "metadata": {},
   "outputs": [],
   "source": [
    "correlation_matrix = formated_data.corr()"
   ]
  },
  {
   "cell_type": "code",
   "execution_count": 10,
   "id": "25a6004a-960d-4145-92b5-e759e5dadca3",
   "metadata": {},
   "outputs": [],
   "source": [
    "correlation_matrix[\"was_click_abs\"] = abs(correlation_matrix[\"was_click\"])"
   ]
  },
  {
   "cell_type": "code",
   "execution_count": 11,
   "id": "e0c940a0",
   "metadata": {},
   "outputs": [
    {
     "data": {
      "text/plain": [
       "was_click          1.000000\n",
       "layout_style_AB    0.010976\n",
       "layout_style_RU    0.005915\n",
       "layout_style_GY    0.005826\n",
       "layout_style_MR    0.005815\n",
       "layout_style_BK    0.005572\n",
       "layout_style_BX    0.005548\n",
       "layout_style_RZ    0.005274\n",
       "layout_style_TY    0.005184\n",
       "category_Shirt     0.005042\n",
       "layout_style_DX    0.004874\n",
       "Name: was_click_abs, dtype: float64"
      ]
     },
     "execution_count": 11,
     "metadata": {},
     "output_type": "execute_result"
    }
   ],
   "source": [
    "correlation_matrix[\"was_click_abs\"].sort_values(ascending=False).head(11)"
   ]
  },
  {
   "cell_type": "code",
   "execution_count": 12,
   "id": "376c522e",
   "metadata": {},
   "outputs": [
    {
     "name": "stdout",
     "output_type": "stream",
     "text": [
      "['layout_style_AB', 'layout_style_RU', 'layout_style_GY', 'layout_style_MR', 'layout_style_BK', 'layout_style_BX', 'layout_style_RZ', 'layout_style_TY', 'category_Shirt', 'layout_style_DX']\n"
     ]
    }
   ],
   "source": [
    "decided_features = list(correlation_matrix[\"was_click_abs\"].sort_values(ascending=False).head(11).index)[1:]\n",
    "print(decided_features)"
   ]
  },
  {
   "cell_type": "markdown",
   "id": "311eff17-a4f6-455c-a027-83c5a6419978",
   "metadata": {},
   "source": [
    "## fit model"
   ]
  },
  {
   "cell_type": "code",
   "execution_count": 13,
   "id": "a08530a2",
   "metadata": {},
   "outputs": [],
   "source": [
    "X, y = formated_data[decided_features], formated_data[\"was_click\"]\n",
    "X_train, X_test, y_train, y_test = train_test_split(\n",
    "    X, y, test_size=0.33, random_state=42)"
   ]
  },
  {
   "cell_type": "code",
   "execution_count": 14,
   "id": "7bbe8e7c",
   "metadata": {},
   "outputs": [],
   "source": [
    "clf = LogisticRegression(random_state=0).fit(X_train, y_train)"
   ]
  },
  {
   "cell_type": "markdown",
   "id": "4d247491-9935-486a-ba2a-a76feb8df677",
   "metadata": {},
   "source": [
    "## check result"
   ]
  },
  {
   "cell_type": "code",
   "execution_count": 15,
   "id": "34ef8bdd-0a6a-43ca-9f85-bdbdfb899667",
   "metadata": {},
   "outputs": [
    {
     "data": {
      "text/plain": [
       "0.9986666666666667"
      ]
     },
     "execution_count": 15,
     "metadata": {},
     "output_type": "execute_result"
    }
   ],
   "source": [
    "clf.score(X_test, y_test)"
   ]
  },
  {
   "cell_type": "code",
   "execution_count": 16,
   "id": "4bdc902f",
   "metadata": {},
   "outputs": [],
   "source": [
    "predictions = clf.predict_proba(X_test)[:,1]"
   ]
  },
  {
   "cell_type": "code",
   "execution_count": 17,
   "id": "cc0a9136",
   "metadata": {},
   "outputs": [
    {
     "data": {
      "image/png": "[encoded data removed]",
      "text/plain": [
       "<Figure size 432x288 with 1 Axes>"
      ]
     },
     "metadata": {},
     "output_type": "display_data"
    }
   ],
   "source": [
    "# Predictions histogram\n",
    "plt.title(\"Predictions Distribution\")\n",
    "plt.hist(predictions)\n",
    "plt.show()"
   ]
  },
  {
   "cell_type": "code",
   "execution_count": 18,
   "id": "34537631",
   "metadata": {},
   "outputs": [
    {
     "data": {
      "image/png": "[encoded data removed]",
      "text/plain": [
       "<Figure size 432x288 with 1 Axes>"
      ]
     },
     "metadata": {},
     "output_type": "display_data"
    }
   ],
   "source": [
    "# Roc curve\n",
    "fpr, tpr, _ = roc_curve(y_test, predictions)\n",
    "roc_auc = auc(fpr, tpr)\n",
    "\n",
    "plt.figure()\n",
    "lw = 2\n",
    "plt.plot(fpr, tpr, color='darkorange',\n",
    "         lw=lw, label='AUC = %0.2f' % roc_auc)\n",
    "plt.plot([0, 1], [0, 1], color='navy', lw=lw, linestyle='--')\n",
    "plt.xlim([0.0, 1.0])\n",
    "plt.ylim([0.0, 1.05])\n",
    "plt.xlabel('False Positive Rate')\n",
    "plt.ylabel('True Positive Rate')\n",
    "plt.title('ROC Curve')\n",
    "plt.legend(loc=\"lower right\")\n",
    "plt.show()"
   ]
  },
  {
   "cell_type": "code",
   "execution_count": 19,
   "id": "065861f0",
   "metadata": {},
   "outputs": [
    {
     "name": "stdout",
     "output_type": "stream",
     "text": [
      "LogisticRegression model: auc=0.009\n"
     ]
    },
    {
     "data": {
      "image/png": "[encoded data removed]",
      "text/plain": [
       "<Figure size 432x288 with 1 Axes>"
      ]
     },
     "metadata": {},
     "output_type": "display_data"
    }
   ],
   "source": [
    "# Precision Recall Curve\n",
    "precision, recall, _ = precision_recall_curve(y_test, predictions)\n",
    "\n",
    "model_auc = auc(recall, precision)\n",
    "\n",
    "# summarize scores\n",
    "print('LogisticRegression model: auc=%.3f' % (model_auc))\n",
    "\n",
    "# plot the precision-recall curves\n",
    "plt.plot(recall, precision, marker='.', label=\"LogisticRegression\")\n",
    "# axis labels\n",
    "plt.title(\"Precision-Recall Curve\")\n",
    "plt.xlabel('Recall')\n",
    "plt.ylabel('Precision')\n",
    "# show the legend\n",
    "plt.legend()\n",
    "# show the plot\n",
    "plt.show()"
   ]
  },
  {
   "cell_type": "markdown",
   "id": "f5623499",
   "metadata": {},
   "source": [
    " ## Reference\n",
    "- [Precision Recall Curve](https://machinelearningmastery.com/roc-curves-and-precision-recall-curves-for-classification-in-python/)"
   ]
  }
 ],
 "metadata": {
  "kernelspec": {
   "display_name": "Python 3",
   "language": "python",
   "name": "python3"
  },
  "language_info": {
   "codemirror_mode": {
    "name": "ipython",
    "version": 3
   },
   "file_extension": ".py",
   "mimetype": "text/x-python",
   "name": "python",
   "nbconvert_exporter": "python",
   "pygments_lexer": "ipython3",
   "version": "3.6.9"
  },
  "toc": {
   "base_numbering": 1,
   "nav_menu": {
    "height": "12px",
    "width": "190px"
   },
   "number_sections": true,
   "sideBar": true,
   "skip_h1_title": false,
   "title_cell": "Table of Contents",
   "title_sidebar": "Contents",
   "toc_cell": false,
   "toc_position": {},
   "toc_section_display": true,
   "toc_window_display": true
  }
 },
 "nbformat": 4,
 "nbformat_minor": 5
}
